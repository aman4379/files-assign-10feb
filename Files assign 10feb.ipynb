{
 "cells": [
  {
   "cell_type": "markdown",
   "id": "9944ad3d-2063-40ff-8bd3-8cc8fd3afe9a",
   "metadata": {},
   "source": [
    "Q1. Which function is used to open a file? What are the different modes of opening a file? Explain each mode\n",
    "of file opening."
   ]
  },
  {
   "cell_type": "code",
   "execution_count": null,
   "id": "718817d7-e960-4990-bb7c-0b681c6e5ed0",
   "metadata": {},
   "outputs": [],
   "source": [
    "Ans. The function used to open a file is open(\"file_name\").The different mode of opening a file are\n",
    "     'r'       open for reading (default)\n",
    "     'w'       open for writing, truncating the file first\n",
    "    'x'       create a new file and open it for writing\n",
    "    'a'       open for writing, appending to the end of the file if it exists\n",
    "    'b'       binary mode\n",
    "    't'       text mode (default)\n",
    "    '+'       open a disk file for updating (reading and writing)\n",
    "    'U'       universal newline mode (deprecated)"
   ]
  },
  {
   "cell_type": "markdown",
   "id": "6a3561ad-40c9-4a15-9833-50eb369287e7",
   "metadata": {},
   "source": [
    "Q2. Why close() function is used? Why is it important to close a file?"
   ]
  },
  {
   "cell_type": "code",
   "execution_count": null,
   "id": "989909a6-6e17-423e-ab1a-3498e77a66de",
   "metadata": {},
   "outputs": [],
   "source": [
    "Ans. The close () function closes the connection between the program and an open file identified by a handle."
   ]
  },
  {
   "cell_type": "markdown",
   "id": "4066e34e-9700-4fbb-893e-2d522b199976",
   "metadata": {},
   "source": [
    "Q3. Write a python program to create a text file. Write ‘I want to become a Data Scientist’ in that file. Then\n",
    "close the file. Open this file and read the content of the file."
   ]
  },
  {
   "cell_type": "code",
   "execution_count": 7,
   "id": "309ca558-303c-4c5a-a32d-1beee4e0eab6",
   "metadata": {},
   "outputs": [],
   "source": [
    "f = open('Myfile','w')"
   ]
  },
  {
   "cell_type": "code",
   "execution_count": 8,
   "id": "92a7d651-0151-4308-b344-184ec789731c",
   "metadata": {},
   "outputs": [
    {
     "data": {
      "text/plain": [
       "33"
      ]
     },
     "execution_count": 8,
     "metadata": {},
     "output_type": "execute_result"
    }
   ],
   "source": [
    "f.write('I want to become a Data Scientist')"
   ]
  },
  {
   "cell_type": "code",
   "execution_count": 9,
   "id": "a8b2f75c-cd9d-4f6d-ab8f-7b3478d0137a",
   "metadata": {},
   "outputs": [],
   "source": [
    "f.close()"
   ]
  },
  {
   "cell_type": "code",
   "execution_count": 10,
   "id": "5daa2bb7-54d8-49ee-bed1-d305850bab40",
   "metadata": {},
   "outputs": [],
   "source": [
    "f = open('Myfile','r')"
   ]
  },
  {
   "cell_type": "code",
   "execution_count": 11,
   "id": "992e43ad-74a8-4a73-8711-912550d9a8f7",
   "metadata": {},
   "outputs": [
    {
     "data": {
      "text/plain": [
       "'I want to become a Data Scientist'"
      ]
     },
     "execution_count": 11,
     "metadata": {},
     "output_type": "execute_result"
    }
   ],
   "source": [
    "f.read()"
   ]
  },
  {
   "cell_type": "markdown",
   "id": "35652645-6a71-4bb5-9d76-af863e892b63",
   "metadata": {},
   "source": [
    "Q4. Explain the following with python code: read(), readline() and readlines()."
   ]
  },
  {
   "cell_type": "code",
   "execution_count": null,
   "id": "6647a5c1-516d-4dc6-9c42-1abb970c97d4",
   "metadata": {},
   "outputs": [],
   "source": [
    "Ans. The python code 'read()' is used to read the data of the file we opened.\n",
    "     The python code 'readline' is used to Read until newline or EOF.\n",
    "     The python code 'readlines' is used to Return a list of lines from the stream."
   ]
  },
  {
   "cell_type": "markdown",
   "id": "cd8a4e4b-33fa-4d28-a84b-80a4dddd26e8",
   "metadata": {},
   "source": [
    "Q5. Explain why with statement is used with open(). What is the advantage of using with statement and\n",
    "open() together?"
   ]
  },
  {
   "cell_type": "code",
   "execution_count": null,
   "id": "b111b4c2-2117-41df-ae70-09188cedd2d6",
   "metadata": {},
   "outputs": [],
   "source": [
    "Ans. The with keyword in Python is used as a context manager. As in any programming language, the usage of \n",
    "resources like file operations or database connections is very common. But these resources are limited in supply.\n",
    "Therefore, the main problem lies in making sure to release these resources after usage. If they are not released,\n",
    "then it will lead to resource leakage and may cause the system to either slow down or crash."
   ]
  },
  {
   "cell_type": "code",
   "execution_count": null,
   "id": "3562943d-9311-405d-8841-c40eb72e43af",
   "metadata": {},
   "outputs": [],
   "source": [
    "While using open() we need to explicitly close an opened file instance, else other parts of code may face errors \n",
    "while opening the same file. In with open() the closing of the file is handled by the context manager."
   ]
  },
  {
   "cell_type": "markdown",
   "id": "fa4c669c-2e7c-427b-8f67-42d74bee4cd8",
   "metadata": {},
   "source": [
    "Q6. Explain the write() and writelines() functions. Give a suitable example."
   ]
  },
  {
   "cell_type": "code",
   "execution_count": null,
   "id": "78aeb68c-48b0-4d89-b0ea-13a13912bc0c",
   "metadata": {},
   "outputs": [],
   "source": [
    "Ans. Write ( ): In this function, we must pass a single argument, the string we want to insert into the file.\n",
    "    For example, if we have a file named hello.txt and we want to open it in write mode, then we can use it as:\n",
    "    File1 = open ( \" hello.txt \" , \" w \" )\n",
    "    File1.write ( str )\n",
    "    Here, str is the string that we want to insert into the file."
   ]
  },
  {
   "cell_type": "code",
   "execution_count": null,
   "id": "48d56fc7-9296-43ad-8801-0db8e04ff487",
   "metadata": {},
   "outputs": [],
   "source": [
    "Writelines ( ): In this function, we must pass an array or a list consisting of multiple strings. It is used to insert multiple various strings into the file at a single time.\n",
    "For example, if we have a file named hello.txt and we want to open it in write mode, then we can use it as:\n",
    "File1 = open ( \" hello.txt \" , \" w \" )\n",
    "File1.writelines( S ) for S = [ str1 , str2 , str3 ]"
   ]
  }
 ],
 "metadata": {
  "kernelspec": {
   "display_name": "Python 3 (ipykernel)",
   "language": "python",
   "name": "python3"
  },
  "language_info": {
   "codemirror_mode": {
    "name": "ipython",
    "version": 3
   },
   "file_extension": ".py",
   "mimetype": "text/x-python",
   "name": "python",
   "nbconvert_exporter": "python",
   "pygments_lexer": "ipython3",
   "version": "3.10.8"
  }
 },
 "nbformat": 4,
 "nbformat_minor": 5
}
